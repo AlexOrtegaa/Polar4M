{
 "cells": [
  {
   "cell_type": "code",
   "id": "initial_id",
   "metadata": {
    "collapsed": true,
    "ExecuteTime": {
     "end_time": "2025-08-06T19:38:15.878095Z",
     "start_time": "2025-08-06T19:38:15.808263Z"
    }
   },
   "source": "import numpy as np",
   "outputs": [],
   "execution_count": 1
  },
  {
   "metadata": {
    "ExecuteTime": {
     "end_time": "2025-08-06T19:38:16.081203Z",
     "start_time": "2025-08-06T19:38:16.059991Z"
    }
   },
   "cell_type": "code",
   "source": "np.random.seed(44)",
   "id": "1b5ace47c85078d",
   "outputs": [],
   "execution_count": 2
  },
  {
   "metadata": {
    "ExecuteTime": {
     "end_time": "2025-08-06T19:38:16.467581Z",
     "start_time": "2025-08-06T19:38:16.404712Z"
    }
   },
   "cell_type": "code",
   "source": [
    "rotation_measure_images = np.load('./src/data/datasets/rotation_measure.npy')\n",
    "polarisation_images = np.load('./src/data/datasets/peak_polarisation_intensity.npy')\n",
    "stokes_i_images = np.load('./src/data/datasets/stokes_i.npy')"
   ],
   "id": "671c7f2ef3437bd7",
   "outputs": [],
   "execution_count": 3
  },
  {
   "metadata": {},
   "cell_type": "markdown",
   "source": "## The following cells identify which entries in the datasets contain NaN values.",
   "id": "92bc77d631834621"
  },
  {
   "metadata": {
    "ExecuteTime": {
     "end_time": "2025-08-06T19:38:17.159139Z",
     "start_time": "2025-08-06T19:38:17.110210Z"
    }
   },
   "cell_type": "code",
   "source": [
    "rotation_measure_nan_entries = set(np.where(np.isnan(rotation_measure_images))[0])\n",
    "print(rotation_measure_nan_entries)"
   ],
   "id": "d420c1b80df3771a",
   "outputs": [
    {
     "name": "stdout",
     "output_type": "stream",
     "text": [
      "set()\n"
     ]
    }
   ],
   "execution_count": 4
  },
  {
   "metadata": {
    "ExecuteTime": {
     "end_time": "2025-08-06T19:38:17.509748Z",
     "start_time": "2025-08-06T19:38:17.464313Z"
    }
   },
   "cell_type": "code",
   "source": [
    "polarisation_nan_entries = set(np.where(np.isnan(polarisation_images))[0])\n",
    "print(polarisation_nan_entries)"
   ],
   "id": "b82e2a300ebec208",
   "outputs": [
    {
     "name": "stdout",
     "output_type": "stream",
     "text": [
      "set()\n"
     ]
    }
   ],
   "execution_count": 5
  },
  {
   "metadata": {
    "ExecuteTime": {
     "end_time": "2025-08-06T19:38:17.932545Z",
     "start_time": "2025-08-06T19:38:17.881760Z"
    }
   },
   "cell_type": "code",
   "source": [
    "stokes_i_nan_entries = set(np.where(np.isnan(stokes_i_images))[0])\n",
    "print(stokes_i_nan_entries)"
   ],
   "id": "b5fa5d3dabc209d",
   "outputs": [
    {
     "name": "stdout",
     "output_type": "stream",
     "text": [
      "{np.int64(645), np.int64(646), np.int64(647), np.int64(636), np.int64(637), np.int64(638)}\n"
     ]
    }
   ],
   "execution_count": 6
  },
  {
   "metadata": {
    "ExecuteTime": {
     "end_time": "2025-08-06T19:38:18.351729Z",
     "start_time": "2025-08-06T19:38:18.348917Z"
    }
   },
   "cell_type": "code",
   "source": "nan_entries = list(rotation_measure_nan_entries | polarisation_nan_entries | stokes_i_nan_entries)",
   "id": "ab8ebfb643829c68",
   "outputs": [],
   "execution_count": 7
  },
  {
   "metadata": {
    "ExecuteTime": {
     "end_time": "2025-08-06T19:38:18.739761Z",
     "start_time": "2025-08-06T19:38:18.731818Z"
    }
   },
   "cell_type": "code",
   "source": "np.all(np.isnan(stokes_i_images[nan_entries]), axis=(1, 2))",
   "id": "8643eaaabcf795a7",
   "outputs": [
    {
     "data": {
      "text/plain": [
       "array([ True,  True,  True,  True,  True,  True])"
      ]
     },
     "execution_count": 8,
     "metadata": {},
     "output_type": "execute_result"
    }
   ],
   "execution_count": 8
  },
  {
   "metadata": {},
   "cell_type": "markdown",
   "source": "## Then, we can remove these entries from the datasets.",
   "id": "d8daefff7caa548e"
  },
  {
   "metadata": {
    "ExecuteTime": {
     "end_time": "2025-08-06T19:38:19.659670Z",
     "start_time": "2025-08-06T19:38:19.633519Z"
    }
   },
   "cell_type": "code",
   "source": [
    "mask = np.ones(len(stokes_i_images), dtype=bool)\n",
    "mask[nan_entries] = False\n",
    "clean_stokes_i_images = stokes_i_images[mask]\n",
    "clean_polarisation_images = polarisation_images[mask]\n",
    "clean_rotation_measure_images = rotation_measure_images[mask]"
   ],
   "id": "e8206c66f248ee08",
   "outputs": [],
   "execution_count": 9
  },
  {
   "metadata": {
    "ExecuteTime": {
     "end_time": "2025-08-06T19:38:20.216087Z",
     "start_time": "2025-08-06T19:38:20.145968Z"
    }
   },
   "cell_type": "code",
   "source": [
    "np.save('./src/data/datasets/clean_rotation_measure.npy', clean_rotation_measure_images)\n",
    "np.save('src/data/datasets/clean_peak_polarisation.npy', clean_polarisation_images)\n",
    "np.save('./src/data/datasets/clean_stokes_i.npy', clean_stokes_i_images)"
   ],
   "id": "78a2ec85009a8e2f",
   "outputs": [],
   "execution_count": 10
  },
  {
   "metadata": {
    "ExecuteTime": {
     "end_time": "2025-08-06T19:57:14.928841Z",
     "start_time": "2025-08-06T19:57:14.921378Z"
    }
   },
   "cell_type": "code",
   "source": "print(clean_stokes_i_images.shape[0])",
   "id": "de81508ff952f12d",
   "outputs": [
    {
     "name": "stdout",
     "output_type": "stream",
     "text": [
      "2676\n"
     ]
    }
   ],
   "execution_count": 15
  },
  {
   "metadata": {
    "ExecuteTime": {
     "end_time": "2025-08-06T19:56:46.000990Z",
     "start_time": "2025-08-06T19:56:45.991942Z"
    }
   },
   "cell_type": "code",
   "source": "print(stokes_i_images.shape)",
   "id": "b6ea647c35ed6090",
   "outputs": [
    {
     "name": "stdout",
     "output_type": "stream",
     "text": [
      "(2682, 64, 64)\n"
     ]
    }
   ],
   "execution_count": 12
  },
  {
   "metadata": {},
   "cell_type": "code",
   "outputs": [],
   "execution_count": null,
   "source": "",
   "id": "1da746dff17ab818"
  }
 ],
 "metadata": {
  "kernelspec": {
   "display_name": "Python 3",
   "language": "python",
   "name": "python3"
  },
  "language_info": {
   "codemirror_mode": {
    "name": "ipython",
    "version": 2
   },
   "file_extension": ".py",
   "mimetype": "text/x-python",
   "name": "python",
   "nbconvert_exporter": "python",
   "pygments_lexer": "ipython2",
   "version": "2.7.6"
  }
 },
 "nbformat": 4,
 "nbformat_minor": 5
}
